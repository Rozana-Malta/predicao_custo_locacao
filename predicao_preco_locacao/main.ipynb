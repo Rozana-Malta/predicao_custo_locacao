{
 "cells": [
  {
   "cell_type": "code",
   "execution_count": 1,
   "metadata": {},
   "outputs": [],
   "source": [
    "import pandas as pd\n",
    "import seaborn as sns"
   ]
  },
  {
   "cell_type": "code",
   "execution_count": 18,
   "metadata": {},
   "outputs": [],
   "source": [
    "df = pd.read_excel('precos_porto_seguro.xlsx')"
   ]
  },
  {
   "cell_type": "code",
   "execution_count": 19,
   "metadata": {},
   "outputs": [
    {
     "data": {
      "text/html": [
       "<div>\n",
       "<style scoped>\n",
       "    .dataframe tbody tr th:only-of-type {\n",
       "        vertical-align: middle;\n",
       "    }\n",
       "\n",
       "    .dataframe tbody tr th {\n",
       "        vertical-align: top;\n",
       "    }\n",
       "\n",
       "    .dataframe thead th {\n",
       "        text-align: right;\n",
       "    }\n",
       "</style>\n",
       "<table border=\"1\" class=\"dataframe\">\n",
       "  <thead>\n",
       "    <tr style=\"text-align: right;\">\n",
       "      <th></th>\n",
       "      <th>marca</th>\n",
       "      <th>marca_ID</th>\n",
       "      <th>modelo</th>\n",
       "      <th>modelo_descricao</th>\n",
       "      <th>categoria</th>\n",
       "      <th>categoria_ID</th>\n",
       "      <th>periodo_contrato_anos</th>\n",
       "      <th>pacote_km</th>\n",
       "      <th>km_por_ano</th>\n",
       "      <th>preco</th>\n",
       "      <th>preco_km</th>\n",
       "    </tr>\n",
       "  </thead>\n",
       "  <tbody>\n",
       "    <tr>\n",
       "      <th>0</th>\n",
       "      <td>VW</td>\n",
       "      <td>1</td>\n",
       "      <td>VIRTUS</td>\n",
       "      <td>HIGHLINE INFODISPLAY 1.0 TURBO</td>\n",
       "      <td>sedan</td>\n",
       "      <td>1</td>\n",
       "      <td>2.0</td>\n",
       "      <td>24000</td>\n",
       "      <td>12000</td>\n",
       "      <td>3119</td>\n",
       "      <td>0.259917</td>\n",
       "    </tr>\n",
       "    <tr>\n",
       "      <th>1</th>\n",
       "      <td>VW</td>\n",
       "      <td>1</td>\n",
       "      <td>VIRTUS</td>\n",
       "      <td>HIGHLINE INFODISPLAY 1.0 TURBO</td>\n",
       "      <td>sedan</td>\n",
       "      <td>1</td>\n",
       "      <td>2.0</td>\n",
       "      <td>36000</td>\n",
       "      <td>18000</td>\n",
       "      <td>3189</td>\n",
       "      <td>0.177167</td>\n",
       "    </tr>\n",
       "    <tr>\n",
       "      <th>2</th>\n",
       "      <td>VW</td>\n",
       "      <td>1</td>\n",
       "      <td>VIRTUS</td>\n",
       "      <td>HIGHLINE INFODISPLAY 1.0 TURBO</td>\n",
       "      <td>sedan</td>\n",
       "      <td>1</td>\n",
       "      <td>2.0</td>\n",
       "      <td>48000</td>\n",
       "      <td>24000</td>\n",
       "      <td>3269</td>\n",
       "      <td>0.136208</td>\n",
       "    </tr>\n",
       "    <tr>\n",
       "      <th>3</th>\n",
       "      <td>VW</td>\n",
       "      <td>1</td>\n",
       "      <td>VIRTUS</td>\n",
       "      <td>HIGHLINE INFODISPLAY 1.0 TURBO</td>\n",
       "      <td>sedan</td>\n",
       "      <td>1</td>\n",
       "      <td>2.0</td>\n",
       "      <td>60000</td>\n",
       "      <td>30000</td>\n",
       "      <td>3359</td>\n",
       "      <td>0.111967</td>\n",
       "    </tr>\n",
       "    <tr>\n",
       "      <th>4</th>\n",
       "      <td>VW</td>\n",
       "      <td>1</td>\n",
       "      <td>VIRTUS</td>\n",
       "      <td>HIGHLINE INFODISPLAY 1.0 TURBO</td>\n",
       "      <td>sedan</td>\n",
       "      <td>1</td>\n",
       "      <td>1.5</td>\n",
       "      <td>18000</td>\n",
       "      <td>12000</td>\n",
       "      <td>3219</td>\n",
       "      <td>0.268250</td>\n",
       "    </tr>\n",
       "  </tbody>\n",
       "</table>\n",
       "</div>"
      ],
      "text/plain": [
       "  marca  marca_ID  modelo                modelo_descricao categoria  \\\n",
       "0    VW         1  VIRTUS  HIGHLINE INFODISPLAY 1.0 TURBO     sedan   \n",
       "1    VW         1  VIRTUS  HIGHLINE INFODISPLAY 1.0 TURBO     sedan   \n",
       "2    VW         1  VIRTUS  HIGHLINE INFODISPLAY 1.0 TURBO     sedan   \n",
       "3    VW         1  VIRTUS  HIGHLINE INFODISPLAY 1.0 TURBO     sedan   \n",
       "4    VW         1  VIRTUS  HIGHLINE INFODISPLAY 1.0 TURBO     sedan   \n",
       "\n",
       "   categoria_ID  periodo_contrato_anos  pacote_km  km_por_ano  preco  preco_km  \n",
       "0             1                    2.0      24000       12000   3119  0.259917  \n",
       "1             1                    2.0      36000       18000   3189  0.177167  \n",
       "2             1                    2.0      48000       24000   3269  0.136208  \n",
       "3             1                    2.0      60000       30000   3359  0.111967  \n",
       "4             1                    1.5      18000       12000   3219  0.268250  "
      ]
     },
     "execution_count": 19,
     "metadata": {},
     "output_type": "execute_result"
    }
   ],
   "source": [
    "df.head()"
   ]
  },
  {
   "cell_type": "code",
   "execution_count": 20,
   "metadata": {},
   "outputs": [],
   "source": [
    "df = df.drop(['modelo', 'modelo_descricao', 'categoria_ID','marca_ID'], axis=1)"
   ]
  },
  {
   "cell_type": "code",
   "execution_count": 21,
   "metadata": {},
   "outputs": [
    {
     "data": {
      "text/html": [
       "<div>\n",
       "<style scoped>\n",
       "    .dataframe tbody tr th:only-of-type {\n",
       "        vertical-align: middle;\n",
       "    }\n",
       "\n",
       "    .dataframe tbody tr th {\n",
       "        vertical-align: top;\n",
       "    }\n",
       "\n",
       "    .dataframe thead th {\n",
       "        text-align: right;\n",
       "    }\n",
       "</style>\n",
       "<table border=\"1\" class=\"dataframe\">\n",
       "  <thead>\n",
       "    <tr style=\"text-align: right;\">\n",
       "      <th></th>\n",
       "      <th>marca</th>\n",
       "      <th>categoria</th>\n",
       "      <th>periodo_contrato_anos</th>\n",
       "      <th>pacote_km</th>\n",
       "      <th>km_por_ano</th>\n",
       "      <th>preco</th>\n",
       "      <th>preco_km</th>\n",
       "    </tr>\n",
       "  </thead>\n",
       "  <tbody>\n",
       "    <tr>\n",
       "      <th>0</th>\n",
       "      <td>VW</td>\n",
       "      <td>sedan</td>\n",
       "      <td>2.0</td>\n",
       "      <td>24000</td>\n",
       "      <td>12000</td>\n",
       "      <td>3119</td>\n",
       "      <td>0.259917</td>\n",
       "    </tr>\n",
       "    <tr>\n",
       "      <th>1</th>\n",
       "      <td>VW</td>\n",
       "      <td>sedan</td>\n",
       "      <td>2.0</td>\n",
       "      <td>36000</td>\n",
       "      <td>18000</td>\n",
       "      <td>3189</td>\n",
       "      <td>0.177167</td>\n",
       "    </tr>\n",
       "    <tr>\n",
       "      <th>2</th>\n",
       "      <td>VW</td>\n",
       "      <td>sedan</td>\n",
       "      <td>2.0</td>\n",
       "      <td>48000</td>\n",
       "      <td>24000</td>\n",
       "      <td>3269</td>\n",
       "      <td>0.136208</td>\n",
       "    </tr>\n",
       "    <tr>\n",
       "      <th>3</th>\n",
       "      <td>VW</td>\n",
       "      <td>sedan</td>\n",
       "      <td>2.0</td>\n",
       "      <td>60000</td>\n",
       "      <td>30000</td>\n",
       "      <td>3359</td>\n",
       "      <td>0.111967</td>\n",
       "    </tr>\n",
       "    <tr>\n",
       "      <th>4</th>\n",
       "      <td>VW</td>\n",
       "      <td>sedan</td>\n",
       "      <td>1.5</td>\n",
       "      <td>18000</td>\n",
       "      <td>12000</td>\n",
       "      <td>3219</td>\n",
       "      <td>0.268250</td>\n",
       "    </tr>\n",
       "  </tbody>\n",
       "</table>\n",
       "</div>"
      ],
      "text/plain": [
       "  marca categoria  periodo_contrato_anos  pacote_km  km_por_ano  preco  \\\n",
       "0    VW     sedan                    2.0      24000       12000   3119   \n",
       "1    VW     sedan                    2.0      36000       18000   3189   \n",
       "2    VW     sedan                    2.0      48000       24000   3269   \n",
       "3    VW     sedan                    2.0      60000       30000   3359   \n",
       "4    VW     sedan                    1.5      18000       12000   3219   \n",
       "\n",
       "   preco_km  \n",
       "0  0.259917  \n",
       "1  0.177167  \n",
       "2  0.136208  \n",
       "3  0.111967  \n",
       "4  0.268250  "
      ]
     },
     "execution_count": 21,
     "metadata": {},
     "output_type": "execute_result"
    }
   ],
   "source": [
    "df.head()"
   ]
  },
  {
   "cell_type": "code",
   "execution_count": 23,
   "metadata": {},
   "outputs": [],
   "source": [
    "df = pd.get_dummies(df)"
   ]
  },
  {
   "cell_type": "code",
   "execution_count": 25,
   "metadata": {},
   "outputs": [
    {
     "data": {
      "text/html": [
       "<div>\n",
       "<style scoped>\n",
       "    .dataframe tbody tr th:only-of-type {\n",
       "        vertical-align: middle;\n",
       "    }\n",
       "\n",
       "    .dataframe tbody tr th {\n",
       "        vertical-align: top;\n",
       "    }\n",
       "\n",
       "    .dataframe thead th {\n",
       "        text-align: right;\n",
       "    }\n",
       "</style>\n",
       "<table border=\"1\" class=\"dataframe\">\n",
       "  <thead>\n",
       "    <tr style=\"text-align: right;\">\n",
       "      <th></th>\n",
       "      <th>periodo_contrato_anos</th>\n",
       "      <th>pacote_km</th>\n",
       "      <th>km_por_ano</th>\n",
       "      <th>preco</th>\n",
       "      <th>preco_km</th>\n",
       "      <th>marca_CAOA-CHERY</th>\n",
       "      <th>marca_CHEVROLET</th>\n",
       "      <th>marca_HYUNDAI</th>\n",
       "      <th>marca_JEEP</th>\n",
       "      <th>marca_NISSAN</th>\n",
       "      <th>marca_RENAULT</th>\n",
       "      <th>marca_TOYOTA</th>\n",
       "      <th>marca_VW</th>\n",
       "      <th>categoria_compacto</th>\n",
       "      <th>categoria_premium</th>\n",
       "      <th>categoria_sedan</th>\n",
       "      <th>categoria_suv</th>\n",
       "    </tr>\n",
       "  </thead>\n",
       "  <tbody>\n",
       "    <tr>\n",
       "      <th>0</th>\n",
       "      <td>2.0</td>\n",
       "      <td>24000</td>\n",
       "      <td>12000</td>\n",
       "      <td>3119</td>\n",
       "      <td>0.259917</td>\n",
       "      <td>0</td>\n",
       "      <td>0</td>\n",
       "      <td>0</td>\n",
       "      <td>0</td>\n",
       "      <td>0</td>\n",
       "      <td>0</td>\n",
       "      <td>0</td>\n",
       "      <td>1</td>\n",
       "      <td>0</td>\n",
       "      <td>0</td>\n",
       "      <td>1</td>\n",
       "      <td>0</td>\n",
       "    </tr>\n",
       "    <tr>\n",
       "      <th>1</th>\n",
       "      <td>2.0</td>\n",
       "      <td>36000</td>\n",
       "      <td>18000</td>\n",
       "      <td>3189</td>\n",
       "      <td>0.177167</td>\n",
       "      <td>0</td>\n",
       "      <td>0</td>\n",
       "      <td>0</td>\n",
       "      <td>0</td>\n",
       "      <td>0</td>\n",
       "      <td>0</td>\n",
       "      <td>0</td>\n",
       "      <td>1</td>\n",
       "      <td>0</td>\n",
       "      <td>0</td>\n",
       "      <td>1</td>\n",
       "      <td>0</td>\n",
       "    </tr>\n",
       "    <tr>\n",
       "      <th>2</th>\n",
       "      <td>2.0</td>\n",
       "      <td>48000</td>\n",
       "      <td>24000</td>\n",
       "      <td>3269</td>\n",
       "      <td>0.136208</td>\n",
       "      <td>0</td>\n",
       "      <td>0</td>\n",
       "      <td>0</td>\n",
       "      <td>0</td>\n",
       "      <td>0</td>\n",
       "      <td>0</td>\n",
       "      <td>0</td>\n",
       "      <td>1</td>\n",
       "      <td>0</td>\n",
       "      <td>0</td>\n",
       "      <td>1</td>\n",
       "      <td>0</td>\n",
       "    </tr>\n",
       "    <tr>\n",
       "      <th>3</th>\n",
       "      <td>2.0</td>\n",
       "      <td>60000</td>\n",
       "      <td>30000</td>\n",
       "      <td>3359</td>\n",
       "      <td>0.111967</td>\n",
       "      <td>0</td>\n",
       "      <td>0</td>\n",
       "      <td>0</td>\n",
       "      <td>0</td>\n",
       "      <td>0</td>\n",
       "      <td>0</td>\n",
       "      <td>0</td>\n",
       "      <td>1</td>\n",
       "      <td>0</td>\n",
       "      <td>0</td>\n",
       "      <td>1</td>\n",
       "      <td>0</td>\n",
       "    </tr>\n",
       "    <tr>\n",
       "      <th>4</th>\n",
       "      <td>1.5</td>\n",
       "      <td>18000</td>\n",
       "      <td>12000</td>\n",
       "      <td>3219</td>\n",
       "      <td>0.268250</td>\n",
       "      <td>0</td>\n",
       "      <td>0</td>\n",
       "      <td>0</td>\n",
       "      <td>0</td>\n",
       "      <td>0</td>\n",
       "      <td>0</td>\n",
       "      <td>0</td>\n",
       "      <td>1</td>\n",
       "      <td>0</td>\n",
       "      <td>0</td>\n",
       "      <td>1</td>\n",
       "      <td>0</td>\n",
       "    </tr>\n",
       "  </tbody>\n",
       "</table>\n",
       "</div>"
      ],
      "text/plain": [
       "   periodo_contrato_anos  pacote_km  km_por_ano  preco  preco_km  \\\n",
       "0                    2.0      24000       12000   3119  0.259917   \n",
       "1                    2.0      36000       18000   3189  0.177167   \n",
       "2                    2.0      48000       24000   3269  0.136208   \n",
       "3                    2.0      60000       30000   3359  0.111967   \n",
       "4                    1.5      18000       12000   3219  0.268250   \n",
       "\n",
       "   marca_CAOA-CHERY  marca_CHEVROLET  marca_HYUNDAI  marca_JEEP  marca_NISSAN  \\\n",
       "0                 0                0              0           0             0   \n",
       "1                 0                0              0           0             0   \n",
       "2                 0                0              0           0             0   \n",
       "3                 0                0              0           0             0   \n",
       "4                 0                0              0           0             0   \n",
       "\n",
       "   marca_RENAULT  marca_TOYOTA  marca_VW  categoria_compacto  \\\n",
       "0              0             0         1                   0   \n",
       "1              0             0         1                   0   \n",
       "2              0             0         1                   0   \n",
       "3              0             0         1                   0   \n",
       "4              0             0         1                   0   \n",
       "\n",
       "   categoria_premium  categoria_sedan  categoria_suv  \n",
       "0                  0                1              0  \n",
       "1                  0                1              0  \n",
       "2                  0                1              0  \n",
       "3                  0                1              0  \n",
       "4                  0                1              0  "
      ]
     },
     "execution_count": 25,
     "metadata": {},
     "output_type": "execute_result"
    }
   ],
   "source": [
    "df.head()"
   ]
  },
  {
   "cell_type": "code",
   "execution_count": 30,
   "metadata": {},
   "outputs": [],
   "source": [
    "dmarca = df.loc[:,'preco_km':'marca_VW']"
   ]
  },
  {
   "cell_type": "code",
   "execution_count": 31,
   "metadata": {},
   "outputs": [
    {
     "data": {
      "image/png": "[encoded data removed]",
      "text/plain": [
       "<Figure size 432x288 with 2 Axes>"
      ]
     },
     "metadata": {
      "needs_background": "light"
     },
     "output_type": "display_data"
    }
   ],
   "source": [
    "ax = sns.heatmap(dmarca.corr(),annot=True,cmap='RdYlGn')"
   ]
  },
  {
   "cell_type": "code",
   "execution_count": 33,
   "metadata": {},
   "outputs": [
    {
     "ename": "SyntaxError",
     "evalue": "invalid syntax (2083831440.py, line 1)",
     "output_type": "error",
     "traceback": [
      "\u001b[1;36m  Input \u001b[1;32mIn [33]\u001b[1;36m\u001b[0m\n\u001b[1;33m    dcategoria = df.loc[:,[:'preco_km','categoria_compacto':'categoria_sedan']]\u001b[0m\n\u001b[1;37m                           ^\u001b[0m\n\u001b[1;31mSyntaxError\u001b[0m\u001b[1;31m:\u001b[0m invalid syntax\n"
     ]
    }
   ],
   "source": [
    "dcategoria = df.loc[:,:'preco_km','categoria_compacto':'categoria_sedan']"
   ]
  },
  {
   "cell_type": "code",
   "execution_count": 26,
   "metadata": {},
   "outputs": [
    {
     "ename": "TypeError",
     "evalue": "cannot do positional indexing on Index with these indexers [preco_km] of type str",
     "output_type": "error",
     "traceback": [
      "\u001b[1;31m---------------------------------------------------------------------------\u001b[0m",
      "\u001b[1;31mTypeError\u001b[0m                                 Traceback (most recent call last)",
      "\u001b[1;32mc:\\Users\\rozam\\Documents\\ABLA\\projetos\\predicao_preco_locacao\\main.ipynb Cell 8'\u001b[0m in \u001b[0;36m<cell line: 1>\u001b[1;34m()\u001b[0m\n\u001b[1;32m----> <a href='vscode-notebook-cell:/c%3A/Users/rozam/Documents/ABLA/projetos/predicao_preco_locacao/main.ipynb#ch0000005?line=0'>1</a>\u001b[0m ax \u001b[39m=\u001b[39m sns\u001b[39m.\u001b[39mheatmap(df\u001b[39m.\u001b[39;49miloc[:,\u001b[39m'\u001b[39;49m\u001b[39mpreco_km\u001b[39;49m\u001b[39m'\u001b[39;49m:]\u001b[39m.\u001b[39mcorr(),annot\u001b[39m=\u001b[39m\u001b[39mTrue\u001b[39;00m,cmap\u001b[39m=\u001b[39m\u001b[39m'\u001b[39m\u001b[39mRdYlGn\u001b[39m\u001b[39m'\u001b[39m)\n",
      "File \u001b[1;32mc:\\Users\\rozam\\Documents\\ABLA\\projetos\\predicao_preco_locacao\\.venv\\lib\\site-packages\\pandas\\core\\indexing.py:961\u001b[0m, in \u001b[0;36m_LocationIndexer.__getitem__\u001b[1;34m(self, key)\u001b[0m\n\u001b[0;32m    959\u001b[0m     \u001b[39mif\u001b[39;00m \u001b[39mself\u001b[39m\u001b[39m.\u001b[39m_is_scalar_access(key):\n\u001b[0;32m    960\u001b[0m         \u001b[39mreturn\u001b[39;00m \u001b[39mself\u001b[39m\u001b[39m.\u001b[39mobj\u001b[39m.\u001b[39m_get_value(\u001b[39m*\u001b[39mkey, takeable\u001b[39m=\u001b[39m\u001b[39mself\u001b[39m\u001b[39m.\u001b[39m_takeable)\n\u001b[1;32m--> 961\u001b[0m     \u001b[39mreturn\u001b[39;00m \u001b[39mself\u001b[39;49m\u001b[39m.\u001b[39;49m_getitem_tuple(key)\n\u001b[0;32m    962\u001b[0m \u001b[39melse\u001b[39;00m:\n\u001b[0;32m    963\u001b[0m     \u001b[39m# we by definition only have the 0th axis\u001b[39;00m\n\u001b[0;32m    964\u001b[0m     axis \u001b[39m=\u001b[39m \u001b[39mself\u001b[39m\u001b[39m.\u001b[39maxis \u001b[39mor\u001b[39;00m \u001b[39m0\u001b[39m\n",
      "File \u001b[1;32mc:\\Users\\rozam\\Documents\\ABLA\\projetos\\predicao_preco_locacao\\.venv\\lib\\site-packages\\pandas\\core\\indexing.py:1462\u001b[0m, in \u001b[0;36m_iLocIndexer._getitem_tuple\u001b[1;34m(self, tup)\u001b[0m\n\u001b[0;32m   1459\u001b[0m \u001b[39mwith\u001b[39;00m suppress(IndexingError):\n\u001b[0;32m   1460\u001b[0m     \u001b[39mreturn\u001b[39;00m \u001b[39mself\u001b[39m\u001b[39m.\u001b[39m_getitem_lowerdim(tup)\n\u001b[1;32m-> 1462\u001b[0m \u001b[39mreturn\u001b[39;00m \u001b[39mself\u001b[39;49m\u001b[39m.\u001b[39;49m_getitem_tuple_same_dim(tup)\n",
      "File \u001b[1;32mc:\\Users\\rozam\\Documents\\ABLA\\projetos\\predicao_preco_locacao\\.venv\\lib\\site-packages\\pandas\\core\\indexing.py:827\u001b[0m, in \u001b[0;36m_LocationIndexer._getitem_tuple_same_dim\u001b[1;34m(self, tup)\u001b[0m\n\u001b[0;32m    824\u001b[0m \u001b[39mif\u001b[39;00m com\u001b[39m.\u001b[39mis_null_slice(key):\n\u001b[0;32m    825\u001b[0m     \u001b[39mcontinue\u001b[39;00m\n\u001b[1;32m--> 827\u001b[0m retval \u001b[39m=\u001b[39m \u001b[39mgetattr\u001b[39;49m(retval, \u001b[39mself\u001b[39;49m\u001b[39m.\u001b[39;49mname)\u001b[39m.\u001b[39;49m_getitem_axis(key, axis\u001b[39m=\u001b[39;49mi)\n\u001b[0;32m    828\u001b[0m \u001b[39m# We should never have retval.ndim < self.ndim, as that should\u001b[39;00m\n\u001b[0;32m    829\u001b[0m \u001b[39m#  be handled by the _getitem_lowerdim call above.\u001b[39;00m\n\u001b[0;32m    830\u001b[0m \u001b[39massert\u001b[39;00m retval\u001b[39m.\u001b[39mndim \u001b[39m==\u001b[39m \u001b[39mself\u001b[39m\u001b[39m.\u001b[39mndim\n",
      "File \u001b[1;32mc:\\Users\\rozam\\Documents\\ABLA\\projetos\\predicao_preco_locacao\\.venv\\lib\\site-packages\\pandas\\core\\indexing.py:1497\u001b[0m, in \u001b[0;36m_iLocIndexer._getitem_axis\u001b[1;34m(self, key, axis)\u001b[0m\n\u001b[0;32m   1491\u001b[0m     \u001b[39mraise\u001b[39;00m \u001b[39mIndexError\u001b[39;00m(\n\u001b[0;32m   1492\u001b[0m         \u001b[39m\"\u001b[39m\u001b[39mDataFrame indexer is not allowed for .iloc\u001b[39m\u001b[39m\\n\u001b[39;00m\u001b[39m\"\u001b[39m\n\u001b[0;32m   1493\u001b[0m         \u001b[39m\"\u001b[39m\u001b[39mConsider using .loc for automatic alignment.\u001b[39m\u001b[39m\"\u001b[39m\n\u001b[0;32m   1494\u001b[0m     )\n\u001b[0;32m   1496\u001b[0m \u001b[39mif\u001b[39;00m \u001b[39misinstance\u001b[39m(key, \u001b[39mslice\u001b[39m):\n\u001b[1;32m-> 1497\u001b[0m     \u001b[39mreturn\u001b[39;00m \u001b[39mself\u001b[39;49m\u001b[39m.\u001b[39;49m_get_slice_axis(key, axis\u001b[39m=\u001b[39;49maxis)\n\u001b[0;32m   1499\u001b[0m \u001b[39mif\u001b[39;00m is_iterator(key):\n\u001b[0;32m   1500\u001b[0m     key \u001b[39m=\u001b[39m \u001b[39mlist\u001b[39m(key)\n",
      "File \u001b[1;32mc:\\Users\\rozam\\Documents\\ABLA\\projetos\\predicao_preco_locacao\\.venv\\lib\\site-packages\\pandas\\core\\indexing.py:1532\u001b[0m, in \u001b[0;36m_iLocIndexer._get_slice_axis\u001b[1;34m(self, slice_obj, axis)\u001b[0m\n\u001b[0;32m   1529\u001b[0m     \u001b[39mreturn\u001b[39;00m obj\u001b[39m.\u001b[39mcopy(deep\u001b[39m=\u001b[39m\u001b[39mFalse\u001b[39;00m)\n\u001b[0;32m   1531\u001b[0m labels \u001b[39m=\u001b[39m obj\u001b[39m.\u001b[39m_get_axis(axis)\n\u001b[1;32m-> 1532\u001b[0m labels\u001b[39m.\u001b[39;49m_validate_positional_slice(slice_obj)\n\u001b[0;32m   1533\u001b[0m \u001b[39mreturn\u001b[39;00m \u001b[39mself\u001b[39m\u001b[39m.\u001b[39mobj\u001b[39m.\u001b[39m_slice(slice_obj, axis\u001b[39m=\u001b[39maxis)\n",
      "File \u001b[1;32mc:\\Users\\rozam\\Documents\\ABLA\\projetos\\predicao_preco_locacao\\.venv\\lib\\site-packages\\pandas\\core\\indexes\\base.py:4005\u001b[0m, in \u001b[0;36mIndex._validate_positional_slice\u001b[1;34m(self, key)\u001b[0m\n\u001b[0;32m   3999\u001b[0m \u001b[39m@final\u001b[39m\n\u001b[0;32m   4000\u001b[0m \u001b[39mdef\u001b[39;00m \u001b[39m_validate_positional_slice\u001b[39m(\u001b[39mself\u001b[39m, key: \u001b[39mslice\u001b[39m) \u001b[39m-\u001b[39m\u001b[39m>\u001b[39m \u001b[39mNone\u001b[39;00m:\n\u001b[0;32m   4001\u001b[0m     \u001b[39m\"\"\"\u001b[39;00m\n\u001b[0;32m   4002\u001b[0m \u001b[39m    For positional indexing, a slice must have either int or None\u001b[39;00m\n\u001b[0;32m   4003\u001b[0m \u001b[39m    for each of start, stop, and step.\u001b[39;00m\n\u001b[0;32m   4004\u001b[0m \u001b[39m    \"\"\"\u001b[39;00m\n\u001b[1;32m-> 4005\u001b[0m     \u001b[39mself\u001b[39;49m\u001b[39m.\u001b[39;49m_validate_indexer(\u001b[39m\"\u001b[39;49m\u001b[39mpositional\u001b[39;49m\u001b[39m\"\u001b[39;49m, key\u001b[39m.\u001b[39;49mstart, \u001b[39m\"\u001b[39;49m\u001b[39miloc\u001b[39;49m\u001b[39m\"\u001b[39;49m)\n\u001b[0;32m   4006\u001b[0m     \u001b[39mself\u001b[39m\u001b[39m.\u001b[39m_validate_indexer(\u001b[39m\"\u001b[39m\u001b[39mpositional\u001b[39m\u001b[39m\"\u001b[39m, key\u001b[39m.\u001b[39mstop, \u001b[39m\"\u001b[39m\u001b[39miloc\u001b[39m\u001b[39m\"\u001b[39m)\n\u001b[0;32m   4007\u001b[0m     \u001b[39mself\u001b[39m\u001b[39m.\u001b[39m_validate_indexer(\u001b[39m\"\u001b[39m\u001b[39mpositional\u001b[39m\u001b[39m\"\u001b[39m, key\u001b[39m.\u001b[39mstep, \u001b[39m\"\u001b[39m\u001b[39miloc\u001b[39m\u001b[39m\"\u001b[39m)\n",
      "File \u001b[1;32mc:\\Users\\rozam\\Documents\\ABLA\\projetos\\predicao_preco_locacao\\.venv\\lib\\site-packages\\pandas\\core\\indexes\\base.py:6308\u001b[0m, in \u001b[0;36mIndex._validate_indexer\u001b[1;34m(self, form, key, kind)\u001b[0m\n\u001b[0;32m   6305\u001b[0m \u001b[39massert\u001b[39;00m kind \u001b[39min\u001b[39;00m [\u001b[39m\"\u001b[39m\u001b[39mgetitem\u001b[39m\u001b[39m\"\u001b[39m, \u001b[39m\"\u001b[39m\u001b[39miloc\u001b[39m\u001b[39m\"\u001b[39m]\n\u001b[0;32m   6307\u001b[0m \u001b[39mif\u001b[39;00m key \u001b[39mis\u001b[39;00m \u001b[39mnot\u001b[39;00m \u001b[39mNone\u001b[39;00m \u001b[39mand\u001b[39;00m \u001b[39mnot\u001b[39;00m is_integer(key):\n\u001b[1;32m-> 6308\u001b[0m     \u001b[39mraise\u001b[39;00m \u001b[39mself\u001b[39m\u001b[39m.\u001b[39m_invalid_indexer(form, key)\n",
      "\u001b[1;31mTypeError\u001b[0m: cannot do positional indexing on Index with these indexers [preco_km] of type str"
     ]
    }
   ],
   "source": [
    "ax = sns.heatmap(df.corr(),annot=True,cmap='RdYlGn')"
   ]
  },
  {
   "cell_type": "code",
   "execution_count": 27,
   "metadata": {},
   "outputs": [
    {
     "name": "stderr",
     "output_type": "stream",
     "text": [
      "c:\\Users\\rozam\\Documents\\ABLA\\projetos\\predicao_preco_locacao\\.venv\\lib\\site-packages\\seaborn\\distributions.py:2619: FutureWarning: `distplot` is a deprecated function and will be removed in a future version. Please adapt your code to use either `displot` (a figure-level function with similar flexibility) or `histplot` (an axes-level function for histograms).\n",
      "  warnings.warn(msg, FutureWarning)\n"
     ]
    },
    {
     "data": {
      "text/plain": [
       "<AxesSubplot:xlabel='preco', ylabel='Density'>"
      ]
     },
     "execution_count": 27,
     "metadata": {},
     "output_type": "execute_result"
    },
    {
     "data": {
      "image/png": "[encoded data removed]",
      "text/plain": [
       "<Figure size 720x432 with 1 Axes>"
      ]
     },
     "metadata": {
      "needs_background": "light"
     },
     "output_type": "display_data"
    }
   ],
   "source": [
    "import matplotlib.pyplot as plt \n",
    "f, ax = plt.subplots(figsize=(10,6))\n",
    "sns.distplot(df['preco'])"
   ]
  },
  {
   "cell_type": "code",
   "execution_count": 34,
   "metadata": {},
   "outputs": [
    {
     "name": "stderr",
     "output_type": "stream",
     "text": [
      "c:\\Users\\rozam\\Documents\\ABLA\\projetos\\predicao_preco_locacao\\.venv\\lib\\site-packages\\seaborn\\distributions.py:2619: FutureWarning: `distplot` is a deprecated function and will be removed in a future version. Please adapt your code to use either `displot` (a figure-level function with similar flexibility) or `histplot` (an axes-level function for histograms).\n",
      "  warnings.warn(msg, FutureWarning)\n"
     ]
    },
    {
     "data": {
      "text/plain": [
       "<AxesSubplot:xlabel='preco_km', ylabel='Density'>"
      ]
     },
     "execution_count": 34,
     "metadata": {},
     "output_type": "execute_result"
    },
    {
     "data": {
      "image/png": "[encoded data removed]",
      "text/plain": [
       "<Figure size 720x432 with 1 Axes>"
      ]
     },
     "metadata": {
      "needs_background": "light"
     },
     "output_type": "display_data"
    }
   ],
   "source": [
    "import matplotlib.pyplot as plt \n",
    "f, ax = plt.subplots(figsize=(10,6))\n",
    "sns.distplot(df['preco_km'])"
   ]
  },
  {
   "cell_type": "code",
   "execution_count": 28,
   "metadata": {},
   "outputs": [],
   "source": [
    "X = pd.get_dummies(df.drop('preco',axis=1),drop_first=True)\n",
    "y = df['preco']"
   ]
  },
  {
   "cell_type": "code",
   "execution_count": 30,
   "metadata": {},
   "outputs": [],
   "source": [
    "from sklearn.model_selection import train_test_split"
   ]
  },
  {
   "cell_type": "code",
   "execution_count": 31,
   "metadata": {},
   "outputs": [],
   "source": [
    "X_train, X_test, y_train, y_test = train_test_split(X, y, test_size=0.3, random_state=101)"
   ]
  },
  {
   "cell_type": "code",
   "execution_count": null,
   "metadata": {},
   "outputs": [],
   "source": []
  }
 ],
 "metadata": {
  "kernelspec": {
   "display_name": "Python 3.8.8 ('.venv': venv)",
   "language": "python",
   "name": "python3"
  },
  "language_info": {
   "codemirror_mode": {
    "name": "ipython",
    "version": 3
   },
   "file_extension": ".py",
   "mimetype": "text/x-python",
   "name": "python",
   "nbconvert_exporter": "python",
   "pygments_lexer": "ipython3",
   "version": "3.8.8"
  },
  "orig_nbformat": 4,
  "vscode": {
   "interpreter": {
    "hash": "763dbdca11c59f3def77bbf5231bc4fd2a4b0fc1c5e070d45bdb5eba625192ed"
   }
  }
 },
 "nbformat": 4,
 "nbformat_minor": 2
}
